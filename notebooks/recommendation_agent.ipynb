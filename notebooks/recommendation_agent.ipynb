{
 "cells": [
  {
   "cell_type": "code",
   "execution_count": 22,
   "metadata": {},
   "outputs": [],
   "source": [
    "import requests\n",
    "import json\n",
    "import re"
   ]
  },
  {
   "cell_type": "code",
   "execution_count": null,
   "metadata": {},
   "outputs": [
    {
     "name": "stdout",
     "output_type": "stream",
     "text": [
      "{\"data\":{\"answer\":{\"answerText\":\"```json\\n[\\n  {\\n    \\\"product\\\": \\\"Pentana Audit\\\",\\n    \\\"description\\\": \\\"Provides an integrated audit lifecycle tool, supporting internal audit teams with confidence. Now known as Ideagen Internal Audit.\\\",\\n    \\\"relevancy\\\": 95\\n  },\\n  {\\n    \\\"product\\\": \\\"Op Central\\\",\\n    \\\"description\\\": \\\"An AI-powered global software platform specializing in managing SOPs, training, audits, communications, and incidents for franchises and multi-site organizations.\\\",\\n    \\\"relevancy\\\": 90\\n  },\\n  {\\n    \\\"product\\\": \\\"PleaseReview\\\",\\n    \\\"description\\\": \\\"A secure collaborative platform for document review, co-authoring, and redaction, enabling efficient control of document workflows.\\\",\\n    \\\"relevancy\\\": 85\\n  }\\n]\\n```\",\"answerType\":\"json\",\"isAnswerPositive\":null}}}\n",
      "\n"
     ]
    }
   ],
   "source": [
    "url = \"https://idea-gen-ai-igh.ideagendevai.com/api/idea-gen-ai-service/v2/prompts/15a57fc3-cd0c-4aac-87af-6db3ac1ee0ad\"\n",
    "\n",
    "payload = {'data': '''{\n",
    "  \"instantPrompt\": \"based on the products and product descriptions, as a user with jobTitle: Auditor, productUsed: Ideagen Audit & Risk, and searchQueries: audit workflow, evidence management, recommend 3 products, rank them based on the highest relevancy with percentage. Provide the answer in json array format.\",\n",
    "  \"text\": \"Audit Analytics: Provides unique data and insights to empower accounting, financial, and academic professionals with informative content critical for their work.\\\\nCompliancePath: Validates your QMS to 21 CFR Part 11 and harmonizes your policy and privacy frameworks to HIPAA, HITRUST, IEC62304, 21 CFR Part 820, and any area of Health IT or Life Science convergence.\\\\nCompliSpace: Built on the four pillars of policy, learning, assurance, and reporting, helping you achieve \\'policy to culture.\\'\\\\nCoruson: Enables transport companies to gain complete control, visibility, and real-time reporting of their safety and operational risks.\\\\nDevonWay: Provides a fully integrated, configurable product suite across environmental, health and safety, quality management, enterprise asset management, and workforce management.\\\\nHuddle: Offers secure file sharing and document collaboration for internal and external teams, enabling content collaboration, activity tracking, and project communication in a shared environment.\\\\nIdeagen Academy: Offers interactive demos, online learning, and assessments to help your workforce become proficient with Ideagen software.\\\\nIdeagen EHS: Powered by ProcessMAP, provides an integrated incident reporting and safety management solution, giving safety managers a \\'single source of truth.\\'\\\\nIdeagen Mail Manager: Eliminates email headaches and ensures control of sensitive information and project correspondence.\\\\nInspectionXpert: Facilitates faster and accurate creation of ballooned part drawings and inspection sheets. Now integrated as Ideagen Quality Control.\\\\nMedforce: Offers process and document management solutions tailored for US healthcare. Acquired by Ideagen in 2018.\\\\nOpsbase: A user-friendly, paperless checklist and inspection platform acquired by Ideagen in 2021.\\\\nOp Central: An AI-powered global software platform specializing in managing SOPs, training, audits, communications, and incidents for franchises and multi-site organizations.\\\\nOnePlace Solutions: Integrates Office 365 tools like Outlook, SharePoint, Teams, and OneDrive for intelligent information management, compliance, and collaboration.\\\\nPentana Audit: Provides an integrated audit lifecycle tool, supporting internal audit teams with confidence. Now known as Ideagen Internal Audit.\\\\nPentana Disclose: An automated accounts disclosure checklist tool for efficient tailoring, reviewing, and approval. Now called Ideagen Disclose.\\\\nPentana Risk: Offers complete visibility and control over organizational risks, helping build resilience and compliance. Now Ideagen Risk Management.\\\\nPlant Assessor: The world\\'s largest platform for plant and equipment safety and information sharing, tailored for machinery users.\\\\nPleaseReview: A secure collaborative platform for document review, co-authoring, and redaction, enabling efficient control of document workflows.\\\\nProquis: A quality management solution now replaced by Ideagen Quality Management.\\\\nProcessMAP: Acquired by Ideagen in 2022, a leading solution for digitalizing and transforming environmental, health, and safety management initiatives. Now Ideagen EHS.\\\\nQADEX: [No description provided.]\\\\nQualsys: Acquired by Ideagen in 2020, it provides a primary quality management solution now known as Ideagen Quality Management.\\\\nQualtrax: Combines customizable process and document management, especially for laboratories and government sectors in the US.\\\\nQ-Pulse EHS: Formerly the Scannell EHS management solution, it is now Ideagen EHS, a workplace safety solution.\\\\nQ-Pulse Law: A regulatory content service acquired by Ideagen in 2019, formerly Scannell Solutions, now called Q-Pulse Law.\\\\nQ-Pulse OSHENS: [No description provided.]\\\\nQ-Pulse PM: Automates First Article Inspection (FAI), Production Part Approval Process (PPAP), and New Product Introduction (NPI) for quality documentation and customer relationships.\\\\nQ-Pulse QMS: Acquired by Ideagen in 2015, a leading name in quality management digitalization. Now Ideagen Quality Management.\\\\nQ-Pulse Risk: A tool leveraging standardized risk models to manage risks effectively, aiding decision-making through impact analysis and risk modeling.\\\\nQ-Pulse SP: Enables suppliers to submit quality documentation via a web portal, with approval tools for submissions and part shipments.\\\\nQ-Pulse WorkRite: Transforms workplace training with an e-Learning LMS designed to meet legal regulations and protect staff. Now Ideagen WorkRite.\\\\nRisk Management: A next-generation enterprise risk management solution delivering integration of assurance, risk, and compliance with excellent user experience.\\\\nSmartforms: Simplifies high-volume data collection with a low-code mobile solution that saves time and enhances productivity, integrating with enterprise systems.\\\\nTritan Software: Helps maritime operators maintain health and safety best practices across global fleets, improving compliance, uptime, and operations.\\\\nWorkbench: A quality management solution now replaced by Ideagen Quality Management.\\\\nIdeagen WorkRite: An e-Learning LMS designed to meet legal regulations and ensure staff well-being.\",\n",
    "  \"platform\": 5\n",
    "}'''}\n",
    "files = []\n",
    "\n",
    "headers = {\n",
    "  'x-api-key': 'your-key',\n",
    "  'productInstanceId': '987e6543-e21b-23d4-a789-426614173999',\n",
    "  'tenantId': 'f97df110-f4de-492e-8849-4a6af68026b0'\n",
    "}\n",
    "\n",
    "response = requests.request(\"POST\", url, headers=headers, data=payload, files=files)\n",
    "\n",
    "print(response.text)\n"
   ]
  },
  {
   "cell_type": "code",
   "execution_count": 29,
   "metadata": {},
   "outputs": [
    {
     "name": "stdout",
     "output_type": "stream",
     "text": [
      "{'Pentana Audit': 'Provides an integrated audit lifecycle tool, supporting internal audit teams with confidence. Now known as Ideagen Internal Audit.', 'Op Central': 'An AI-powered global software platform specializing in managing SOPs, training, audits, communications, and incidents for franchises and multi-site organizations.', 'PleaseReview': 'A secure collaborative platform for document review, co-authoring, and redaction, enabling efficient control of document workflows.'}\n"
     ]
    }
   ],
   "source": [
    "# Parse the JSON response\n",
    "response_data = json.loads(response.text)\n",
    "\n",
    "# Extract the answer text containing product names and descriptions\n",
    "answer_text = response_data[\"data\"][\"answer\"][\"answerText\"]\n",
    "\n",
    "# Remove the surrounding markdown code block\n",
    "answer_text = answer_text.strip(\"```json\\n\").strip(\"\\n```\")\n",
    "\n",
    "# Parse the JSON content inside the answer text\n",
    "products_data = json.loads(answer_text)\n",
    "\n",
    "# Create a dictionary to store the products and their descriptions\n",
    "products = {item[\"product\"]: item[\"description\"] for item in products_data}\n",
    "print (products)\n"
   ]
  }
 ],
 "metadata": {
  "kernelspec": {
   "display_name": "Python 3",
   "language": "python",
   "name": "python3"
  },
  "language_info": {
   "codemirror_mode": {
    "name": "ipython",
    "version": 3
   },
   "file_extension": ".py",
   "mimetype": "text/x-python",
   "name": "python",
   "nbconvert_exporter": "python",
   "pygments_lexer": "ipython3",
   "version": "3.13.1"
  }
 },
 "nbformat": 4,
 "nbformat_minor": 2
}
