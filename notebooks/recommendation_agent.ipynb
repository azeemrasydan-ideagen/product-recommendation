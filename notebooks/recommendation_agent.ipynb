{
 "cells": [
  {
   "cell_type": "code",
   "execution_count": 1,
   "metadata": {},
   "outputs": [],
   "source": [
    "import requests"
   ]
  },
  {
   "cell_type": "code",
   "execution_count": null,
   "metadata": {},
   "outputs": [
    {
     "name": "stdout",
     "output_type": "stream",
     "text": [
      "{\"detail\":\"'data' field in the request is not valid JSON.\",\"status\":400,\"title\":\"Bad Request\",\"type\":\"https://httpstatuses.io/400\"}\n",
      "\n"
     ]
    }
   ],
   "source": [
    "url = \"https://idea-gen-ai-igh.ideagendevai.com/api/idea-gen-ai-service/v2/prompts/15a57fc3-cd0c-4aac-87af-6db3ac1ee0ad\"\n",
    "\n",
    "payload = {\n",
    "    'data': '''{\n",
    "        \"instantPrompt\": \"Answer question below in json format\",\n",
    "        \"text\": \"Based on the product and product description, as a persona with the fields job role = Physician, product used = Medforce, and search queires = \"patient records,\" \"clinical documentation\". Recommend them products from XYZ company that will suit them best. Look at list below to determine the product to recommend.Product Name\tProduct Description\n",
    "Audit Analytics\tAudit Analytics provides unique data and insights to empower accounting, financial and academic professionals with informative content critical for their work.\n",
    "CompliancePath\tValidate your QMS to 21 CFR Part 11 and harmonize your policy and privacy frameworks to HIPAA, HITRUST, IEC62304, 21 CFR Part 820 and any area of Health IT or Life Science convergence.\n",
    "CompliSpace\tBuilt on the four pillars of policy, learning, assurance and reporting, CompliSpace helps you achieve 'policy to culture'.\n",
    "Coruson\tEnables transport companies to gain complete control, visibility and real-time reporting of their safety and operational risks.\n",
    "DevonWay\tDevonWay provides a complete, fully integrated, configurable product suite across environmental, health and safety, quality management, enterprise asset management and workforce management.\n",
    "Huddle\tSecure file sharing and document collaboration for internal and external teams. Collaborate around content, track activity and communicate on projects in a secure, shared environment.\n",
    "Ideagen Academy\tGet the most out of Ideagen software with Ideagen Academy. Our interactive demos, online learning and assessments enable your workforce to become fully competent users of our software.\n",
    "Ideagen EHS\tPowered by ProcessMAP, Ideagen EHS offers the most integrated incident reporting and safety management solution in the industry, giving safety managers a “single source of truth”.\n",
    "Ideagen Mail Manager\tEliminate your email headache and control sensitive information and project correspondence.\n",
    "InspectionXpert\tBalloon your part drawings and create your inspection sheets faster while ensuring 100% accuracy. InspectionXpert is now Ideagen Quality Control.\n",
    "Medforce\tProcess and document management solutions for US healthcare. Ideagen acquired Medforce in 2018.\n",
    "Opsbase\tPaperless check and inspection solution acquired by Ideagen in 2021. OpsBase is a user-friendly, digital checklist and inspection platform.\n",
    "Op Central\tOp Central is an AI powered global software platform, helping businesses manage every aspect of their daily operations. Our software specialises in managing standard operating procedures (SOPs), training, audits, communications & incidents for franchises and multi site organisations.\n",
    "OnePlace Solutions\tHarness the power of Office 365 including Outlook, SharePoint, Teams and OneDrive to achieve intelligent information management, regulatory compliance and effective collaboration.\n",
    "Pentana Audit\tPentana Audit delivers a complete, integrated audit lifecycle. It gives your internal audit team everything they need to provide assurance with confidence. Pentana Audit is now Ideagen Internal Audit.\n",
    "Pentana Disclose\tPentana Disclose is an automated accounts disclosure checklist tool that provides a more efficient way to tailor, review and approve disclosure. Pentana Disclose is now Ideagen Disclose.\n",
    "Pentana Risk\tAchieve complete visibility and control of your organization's risks. Track and report on any type of risk, build resilience and compliance. Pentana Risk is now Ideagen Risk Management.\n",
    "Plant Assessor\tPlant Assessor is the world's largest plant and equipment safety and information sharing platform, helping anyone who works with machinery.\n",
    "PleaseReview\tSecure collaborative document review, co-authoring and redaction platform that helps you to control and manage all aspects of the document review process at scale.\n",
    "Proquis\tA quality management solution now replaced by Ideagen Quality Management.\n",
    "ProcessMAP\tAcquired by Ideagen in 2022, ProcessMAP is a leading solution for the digitalization and process transformation of environmental, health and safety management initiatives. ProcessMAP is now Ideagen EHS.\n",
    "QADEX\t\n",
    "Qualsys\tIdeagen acquired Qualsys in 2020. Our primary quality management solution is now Ideagen Quality Management.\n",
    "Qualtrax\tQualtrax combines fully customizable process management with document management and control, especially in laboratories and the US federal and government sector.\n",
    "Q-Pulse EHS\tThe Scannell EHS management solution was renamed Q-Pulse EHS. Our primary workplace safety solution is now Ideagen EHS.\n",
    "Q-Pulse Law\tIdeagen acquired Scannell Solutions Limited in 2019 and renamed the regulatory content service as Q-Pulse Law. The Scannell EHS management solution was renamed Q-Pulse EHS.\n",
    "Q-Pulse OSHENS\t\n",
    "Q-Pulse PM\tAutomates First Article Inspection (FAI), Production Part Approval Process (PPAP) and New Product Introduction (NPI) for better quality documentation and customer relationships.\n",
    "Q-Pulse QMS\tAcquired by Ideagen in 2015, Q-Pulse is the most trusted name for the digitalization and process transformation of quality management initiatives. Q-Pulse is now Ideagen Quality Management.\n",
    "Q-Pulse Risk\tQ-Pulse Risk is a tool that utilizes standardized risk models to store, view and manage risks in accessible registers. This provides for efficient risk modelling and documentation, supporting the decision-making process by allowing the defining of and analysis on the impact, barriers and mitigations, causes and consequences of risk.\n",
    "Q-Pulse SP\tEnable your suppliers to submit quality documentation via a web portal, with tools for approval of submissions and part shipments.\n",
    "Q-Pulse WorkRite\tTransform your workplace training with our e-Learning LMS. Designed to help you meet legal regulations and keep your staff healthy, happy and protected. Now renamed to Ideagen WorkRite.\n",
    "Risk Management\tIdeagen Risk is the next generation of enterprise risk management software. It delivers seamless integration of assurance, risk, and compliance, with the best user experience.\n",
    "Smartforms\tSimplify high-volume data collection and management through a low-code mobile smart forms solution that helps businesses and individuals save time and increase productivity. Integrates with enterprise systems to handle all your mobile data collection.\n",
    "Tritan Software\tEnables maritime operators to create, implement and maintain health and safety best practices across a global fleet, resulting in increased compliance with international regulations, improved ship uptime, significant cost reductions, and improved ship operations.\n",
    "Workbench\tA quality management solution now replaced by Ideagen Quality Management.\n",
    "Ideagen WorkRite\tTransform your workplace training with our e-Learning LMS. Designed to help you meet legal regulations and keep your staff healthy, happy and protected.\",\n",
    "    }'''\n",
    "}\n",
    "files = []\n",
    "\n",
    "headers = {\n",
    "  'x-api-key': 'NAf6tjifan30SRfjWqWcyaZLdN0MOsOX1f7rP9Oh',\n",
    "  'productInstanceId': '987e6543-e21b-23d4-a789-426614173999',\n",
    "  'tenantId': 'f97df110-f4de-492e-8849-4a6af68026b0'\n",
    "}\n",
    "\n",
    "response = requests.request(\"POST\", url, headers=headers, data=payload, files=files)\n",
    "\n",
    "print(response.text)\n"
   ]
  }
 ],
 "metadata": {
  "kernelspec": {
   "display_name": "Python 3",
   "language": "python",
   "name": "python3"
  },
  "language_info": {
   "codemirror_mode": {
    "name": "ipython",
    "version": 3
   },
   "file_extension": ".py",
   "mimetype": "text/x-python",
   "name": "python",
   "nbconvert_exporter": "python",
   "pygments_lexer": "ipython3",
   "version": "3.13.1"
  }
 },
 "nbformat": 4,
 "nbformat_minor": 2
}
