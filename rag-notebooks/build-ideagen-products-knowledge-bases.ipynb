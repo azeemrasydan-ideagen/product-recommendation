{
 "cells": [
  {
   "cell_type": "code",
   "execution_count": 7,
   "metadata": {},
   "outputs": [],
   "source": [
    "import os\n",
    "\n",
    "from langchain.text_splitter import CharacterTextSplitter\n",
    "from langchain_community.document_loaders import WebBaseLoader\n",
    "from langchain_community.vectorstores import Chroma\n",
    "from langchain_community.embeddings import HuggingFaceInferenceAPIEmbeddings"
   ]
  },
  {
   "cell_type": "code",
   "execution_count": 8,
   "metadata": {},
   "outputs": [],
   "source": [
    "# Define the persistent directory\n",
    "current_dir = os.getcwd()\n",
    "db_dir = os.path.join(current_dir, \"db\")\n",
    "persistent_directory = os.path.join(db_dir, \"ideagen_products_db\")"
   ]
  },
  {
   "cell_type": "code",
   "execution_count": 9,
   "metadata": {},
   "outputs": [],
   "source": [
    "urls = [\n",
    "    \"https://www.ideagen.com/solutions/audit-and-risk/external-audit/ideagen-audit-analytics\",\n",
    "    \"https://www.complispace.com.au/\",\n",
    "    \"https://www.ideagen.com/solutions/quality/coruson\",\n",
    "    \"https://www.devonway.com/\",\n",
    "    \"https://www.ideagen.com/solutions/document-collaboration/huddle\",\n",
    "    \"https://ideagen.ideagenacademy.com/\",\n",
    "    \"https://www.ideagen.com/solutions/environmental-health-and-safety/ehs\",\n",
    "    \"https://www.mailmanager.com/\",\n",
    "    \"https://www.ideagen.com/solutions/quality/quality-control\",\n",
    "    \"https://www.medforcetech.com/about/interoperability/\",\n",
    "    \"https://opcentral.com.au/\",\n",
    "    \"https://www.oneplacesolutions.com/\",\n",
    "    \"https://www.ideagen.com/solutions/audit-and-risk/internal-audit\",\n",
    "    \"https://www.ideagen.com/solutions/audit-and-risk/external-audit\",\n",
    "    \"https://www.ideagen.com/solutions/audit-and-risk/risk-management\",\n",
    "    \"https://www.assessor.com.au/\",\n",
    "    \"https://www.ideagen.com/solutions/document-collaboration/pleasereview\",\n",
    "    \"https://www.ideagen.com/solutions/quality/quality-management\",\n",
    "    \"https://www.ideagen.com/solutions/elearning-content/workrite\",\n",
    "    \"https://www.ideagen.com/solutions/quality/smartforms\",\n",
    "    \"https://www.ideagen.com/solutions/environmental-health-and-safety/maritime-safety\",\n",
    "]\n",
    "\n",
    "loader = WebBaseLoader(urls)\n",
    "documents = loader.load()"
   ]
  },
  {
   "cell_type": "code",
   "execution_count": 10,
   "metadata": {},
   "outputs": [
    {
     "name": "stdout",
     "output_type": "stream",
     "text": [
      "\n",
      "--- Document Chunks Information ---\n",
      "Number of document chunks: 246\n",
      "Sample chunk:\n",
      "Advanced audit insights software for comprehensive analysis\n",
      "\n",
      " \n",
      "\n",
      "Company\n",
      "\n",
      "Our company\n",
      "Our leadership\n",
      "Our values\n",
      "Events\n",
      "News\n",
      "Contact Us\n",
      "\n",
      "Careers\n",
      "\n",
      "Careers overview\n",
      "Current vacancieshiring\n",
      "Early Careers\n",
      "Benefits\n",
      "\n",
      "Resources\n",
      "\n",
      "Blogs\n",
      "\n",
      "Case studies\n",
      "\n",
      "Webinars\n",
      "White papers\n",
      "\n",
      "\n",
      "Contact sales\n",
      "\n",
      "\n",
      "Back\n",
      "\n",
      "Your priorities\n",
      "\n",
      "by industry\n",
      "\n",
      "\n",
      "AEC\n",
      "\n",
      "\n",
      "Aerospace and defense\n",
      "\n",
      "\n",
      "Audit, accounting and advisory\n",
      "\n",
      "\n",
      "Aviation\n",
      "\n",
      "\n",
      "Education\n",
      "\n",
      "\n",
      "Energy\n",
      "\n",
      "\n",
      "Financial services\n",
      "\n",
      "\n",
      "Food and beverage\n",
      "\n",
      "\n",
      "Government\n",
      "\n",
      "\n",
      "Healthcare\n",
      "\n",
      "\n",
      "Laboratories\n",
      "\n",
      "\n",
      "Life sciences\n",
      "\n",
      "\n",
      "Manufacturing\n",
      "\n",
      "\n",
      "Pharmaceuticals\n",
      "\n",
      "\n",
      "Latest Gartner® Market Guide for EHS Software\n",
      "\n",
      "Download now\n",
      "\n",
      "\n",
      "by regulation\n",
      "\n",
      "\n",
      "Cal/OSHA Workplace Violence\n",
      "\n",
      "\n",
      "CAPA\n",
      "\n",
      "\n",
      "COSO\n",
      "\n",
      "\n",
      "ECCAIRS\n",
      "\n",
      "\n",
      "ESG\n",
      "\n",
      "\n",
      "GFSI\n",
      "\n",
      "\n",
      "HACCP\n",
      "\n",
      "\n",
      "HASAWA\n",
      "\n",
      "\n",
      "IASA\n",
      "\n",
      "\n",
      "IATF 16949\n",
      "\n",
      "\n",
      "Natasha's Law\n",
      "\n",
      "\n",
      "OSHA General Duty Clause\n",
      "\n",
      "\n",
      "RIDDOR\n",
      "\n",
      "\n",
      "SOX\n",
      "\n",
      "Latest Gartner® Market Guide for EHS Software\n",
      "\n",
      "Download now\n",
      "\n",
      "\n",
      "by standard\n",
      "\n",
      "\n",
      "AS 9100\n",
      "\n",
      "\n",
      "AS 9102\n",
      "\n",
      "\n",
      "AS 9145\n",
      "\n",
      "\n",
      "AS 13100\n",
      "\n",
      "\n",
      "Global Internal Audit Standards™\n",
      "\n",
      "\n",
      "ISO 9001\n",
      "\n",
      "\n",
      "ISO 10002\n",
      "\n",
      "\n",
      "ISO 13485\n",
      "\n",
      "\n",
      "ISO 14001\n",
      "\n",
      "\n",
      "ISO 15189\n",
      "\n"
     ]
    }
   ],
   "source": [
    "# Step 2: Split the scraped content into chunks\n",
    "# CharacterTextSplitter splits the text into smaller chunks\n",
    "text_splitter = CharacterTextSplitter(chunk_size=1000, chunk_overlap=0)\n",
    "docs = text_splitter.split_documents(documents)\n",
    "\n",
    "# Display information about the split documents\n",
    "print(\"\\n--- Document Chunks Information ---\")\n",
    "print(f\"Number of document chunks: {len(docs)}\")\n",
    "print(f\"Sample chunk:\\n{docs[0].page_content}\\n\")"
   ]
  },
  {
   "cell_type": "code",
   "execution_count": null,
   "metadata": {},
   "outputs": [],
   "source": [
    "embeddings = HuggingFaceInferenceAPIEmbeddings(\n",
    "    api_key='<api-key>', model_name=\"sentence-transformers/all-MiniLM-l6-v2\"\n",
    ")"
   ]
  },
  {
   "cell_type": "code",
   "execution_count": 12,
   "metadata": {},
   "outputs": [
    {
     "name": "stdout",
     "output_type": "stream",
     "text": [
      "\n",
      "--- Creating vector store in c:\\Users\\azeem.rom\\OneDrive - Ideagen plc\\Desktop\\product-recommendation\\rag-notebooks\\db\\ideagen_products_db ---\n",
      "--- Finished creating vector store in c:\\Users\\azeem.rom\\OneDrive - Ideagen plc\\Desktop\\product-recommendation\\rag-notebooks\\db\\ideagen_products_db ---\n"
     ]
    }
   ],
   "source": [
    "# Step 4: Create and persist the vector store with the embeddings\n",
    "# Chroma stores the embeddings for efficient searching\n",
    "if not os.path.exists(persistent_directory):\n",
    "    print(f\"\\n--- Creating vector store in {persistent_directory} ---\")\n",
    "    db = Chroma.from_documents(docs, embeddings, persist_directory=persistent_directory)\n",
    "    print(f\"--- Finished creating vector store in {persistent_directory} ---\")\n",
    "else:\n",
    "    print(f\"Vector store {persistent_directory} already exists. No need to initialize.\")\n",
    "    db = Chroma(persist_directory=persistent_directory, embedding_function=embeddings)"
   ]
  },
  {
   "cell_type": "code",
   "execution_count": 26,
   "metadata": {},
   "outputs": [],
   "source": [
    "# Step 5: Query the vector store\n",
    "# Create a retriever for querying the vector store\n",
    "retriever = db.as_retriever(\n",
    "    search_type=\"mmr\",  # Maximal Marginal Relevance for balancing relevance and diversity\n",
    "    search_kwargs={\n",
    "        \"k\": 5,  # Increase k to retrieve more candidates for ranking\n",
    "        \"lambda_mult\": 0.8,  # Control relevance vs. diversity (closer to 1 is more relevance-focused)\n",
    "    },\n",
    ")\n",
    "\n",
    "\n",
    "# Define the user's question\n",
    "query = \"a user with jobTitle: Auditor, productUsed: Ideagen Audit & Risk, and searchQueries: audit workflow, evidence management, recommend 3 products\"\n",
    "\n",
    "# Retrieve relevant documents based on the query\n",
    "relevant_docs = retriever.invoke(query)"
   ]
  },
  {
   "cell_type": "code",
   "execution_count": 27,
   "metadata": {},
   "outputs": [],
   "source": [
    "# Extract text content from relevant_docs\n",
    "context = \"\\n\".join(doc.page_content for doc in relevant_docs)"
   ]
  },
  {
   "cell_type": "code",
   "execution_count": 28,
   "metadata": {},
   "outputs": [
    {
     "data": {
      "text/plain": [
       "\"50+ databases of standardized disclosure data (dependent on subscription type).\\nSearch by company, auditor, industry, location and more.\\nComprehensive company profiles.\\nAccounting Quality Risk Matrix that helps monitor, compare and evaluate “red flag” disclosures.\\nSaved searches and alerts for every time new data related to your queries is available.\\nComplementary thought leadership ranging in topics from cybersecurity, to restatements, to audit fees, to internal controls and more.\\n\\n\\nIdeagen Audit Analytics Demos\\nSee Ideagen Audit Analytics in action\\n Take part in a tailored demo experience instantly or reach out to connect with one of our experts \\n\\n\\nTailor your demo by selecting the pain points and business needs that matter most to you\\n\\r\\n                                            Instant personalized demo\\nComply with all the standards and regulations that impact your business, including SOX, ISO, ESG and COSO.\\nStep-by-step workflows for audit methodology and audit execution.\\nTrack every project and key performance indicator in one dashboard.\\nManage and document internal audit workflow and workpapers.\\nWork to a central library of Objectives, Risks, Controls and Tests (ORCT)\\nCollaborate more effectively during the audit process\\nPresent data and report in the best way for your audience\\nLive enterprise risk data feed if your company also uses Ideagen Risk Management.\\n\\n\\r\\n                                                Request a demo\\r\\n                                            \\n\\n\\n50% \\ntime saved in audit planning\\n\\n\\n33% \\ntime saved in audit execution\\n\\n\\n20%\\ntime saved in analysis and reporting \\n\\n\\n100\\nhours saved per audit\\n\\n\\nNet cost savings per annum \\n$106,263\\nWorked example, National Bank of Georgia\\nCRM (1)\\nCRM Sync (1)\\nCycle (1)\\nlinkedin (1)\\nPerformance (1)\\nPersonal (1)\\nPPC (1)\\n\\nInfo\\n\\n\\nLearning Packs\\nARC\\n\\nCurriculum\\n\\n\\nInfo\\n\\n\\nLearning Packs\\nCollaboration\\n\\nCurriculum\\n\\n\\nInfo\\n\\n\\nLearning Packs\\nQuality\\n\\nCurriculum\\n\\n\\nInfo\\n\\n\\nIdeagen Academy\\nSales Curriculum\\n\\nCurriculum\\n\\n\\nInfo\\n\\n\\nIdeagen Internal Audit\\n1. Introduction to Auditing and Ideagen Internal Audit\\n\\nCourse rating is 5 stars\\n\\nInfo\\n\\n\\nIdeagen Risk Management\\n1. Introduction to Risk and Ideagen Risk Management\\n\\nCourse rating is 4.5 stars\\n\\nInfo\\n\\n\\nIdeagen Internal Audit\\n2. Viewing an Audit in Ideagen Internal Audit\\n\\nCourse rating is 5 stars\\n\\nInfo\\n\\n\\nIdeagen Risk Management\\n2. Viewing Information in Ideagen Risk Management\\n\\nCourse rating is 4.5 stars\\n\\nInfo\\n\\n\\nIdeagen Risk Management\\n3. Completing Work in Ideagen Risk Management\\n\\nCourse rating is 5 stars\\n\\nInfo\\n\\n\\nIdeagen Internal Audit\\n3. Performing Work in Ideagen Internal Audit\\n\\nCourse rating is 5 stars\\n\\nInfo\\n\\n\\nBasics / New Sales\\nActivity Logging - Introduction\\n\\nCourse has no rating\\n\\nInfo\\nForms, audits and surveys to help you reduce risk, manage incidents and improve operations – all in one user-friendly platform.\\nStreamline risk management with prioritised, weighted questions. Conduct mobile audits on-site for real-time accuracy. Stay on track with recurring tasks and make informed decisions using custom reports that turn data into actionable insights.\\n\\n\\nBook a Demo\\n\\n\\nFrom recruitment to retirement, our intuitive tools help you engage, onboard, and support your team throughout their employment lifecycle.\\nGain real-time staff insights, conduct seamless performance reviews, and manage recruiting effortlessly. Customisable forms and reports help you capture key data, ensuring informed decisions and a thriving workplace culture.\\n\\n\\nBook a Demo\\nExternal audit software to automate disclosures and reduce risk\\n\\n\\n \\n\\nCompany\\n\\nOur company\\nOur leadership\\nOur values\\nEvents\\nNews\\nContact Us\\n\\nCareers\\n\\nCareers overview\\nCurrent vacancieshiring\\nEarly Careers\\nBenefits\\n\\nResources\\n\\nBlogs\\n\\nCase studies\\n\\nWebinars\\nWhite papers\\n\\n\\nContact sales\\n\\n\\nBack\\n\\nYour priorities\\n\\nby industry\\n\\n\\nAEC\\n\\n\\nAerospace and defense\\n\\n\\nAudit, accounting and advisory\\n\\n\\nAviation\\n\\n\\nEducation\\n\\n\\nEnergy\\n\\n\\nFinancial services\\n\\n\\nFood and beverage\\n\\n\\nGovernment\\n\\n\\nHealthcare\\n\\n\\nLaboratories\\n\\n\\nLife sciences\\n\\n\\nManufacturing\\n\\n\\nPharmaceuticals\\n\\n\\nLatest Gartner® Market Guide for EHS Software\\n\\nDownload now\\n\\n\\nby regulation\\n\\n\\nCal/OSHA Workplace Violence\\n\\n\\nCAPA\\n\\n\\nCOSO\\n\\n\\nECCAIRS\\n\\n\\nESG\\n\\n\\nGFSI\\n\\n\\nHACCP\\n\\n\\nHASAWA\\n\\n\\nIASA\\n\\n\\nIATF 16949\\n\\n\\nNatasha's Law\\n\\n\\nOSHA General Duty Clause\\n\\n\\nRIDDOR\\n\\n\\nSOX\\n\\nLatest Gartner® Market Guide for EHS Software\\n\\nDownload now\\n\\n\\nby standard\\n\\n\\nAS 9100\\n\\n\\nAS 9102\\n\\n\\nAS 9145\\n\\n\\nAS 13100\\n\\n\\nGlobal Internal Audit Standards™\\n\\n\\nISO 9001\\n\\n\\nISO 10002\\n\\n\\nISO 13485\\n\\n\\nISO 14001\\n\\n\\nISO 15189\""
      ]
     },
     "execution_count": 28,
     "metadata": {},
     "output_type": "execute_result"
    }
   ],
   "source": [
    "context"
   ]
  },
  {
   "cell_type": "code",
   "execution_count": null,
   "metadata": {},
   "outputs": [],
   "source": [
    "import requests\n",
    "import json\n",
    "\n",
    "def generate_payload(jobTitle, productUsed, searchQueries):\n",
    "    instantPrompt = f\"based on the products and product descriptions, as a user with jobTitle: {jobTitle}, productUsed: {productUsed}, and searchQueries: {', '.join(searchQueries)}, recommend 3 products, rank them based on the highest relevancy with percentage. Provide the answer in json array format. For the recommended products ensure that it is different from the product owned\"\n",
    "    \n",
    "    text = \"\"\"Audit Analytics: Provides unique data and insights to empower accounting, financial, and academic professionals with informative content critical for their work.\\nCompliancePath: Validates your QMS to 21 CFR Part 11 and harmonizes your policy and privacy frameworks to HIPAA, HITRUST, IEC62304, 21 CFR Part 820, and any area of Health IT or Life Science convergence.\\nCompliSpace: Built on the four pillars of policy, learning, assurance, and reporting, helping you achieve 'policy to culture.'\\nCoruson: Enables transport companies to gain complete control, visibility, and real-time reporting of their safety and operational risks.\\nDevonWay: Provides a fully integrated, configurable product suite across environmental, health and safety, quality management, enterprise asset management, and workforce management.\\nHuddle: Offers secure file sharing and document collaboration for internal and external teams, enabling content collaboration, activity tracking, and project communication in a shared environment.\\nIdeagen Academy: Offers interactive demos, online learning, and assessments to help your workforce become proficient with Ideagen software.\\nIdeagen EHS: Powered by ProcessMAP, provides an integrated incident reporting and safety management solution, giving safety managers a 'single source of truth.'\\nIdeagen Mail Manager: Eliminates email headaches and ensures control of sensitive information and project correspondence.\\nInspectionXpert: Facilitates faster and accurate creation of ballooned part drawings and inspection sheets. Now integrated as Ideagen Quality Control.\\nMedforce: Offers process and document management solutions tailored for US healthcare. Acquired by Ideagen in 2018.\\nOpsbase: A user-friendly, paperless checklist and inspection platform acquired by Ideagen in 2021.\\nOp Central: An AI-powered global software platform specializing in managing SOPs, training, audits, communications, and incidents for franchises and multi-site organizations.\\nOnePlace Solutions: Integrates Office 365 tools like Outlook, SharePoint, Teams, and OneDrive for intelligent information management, compliance, and collaboration.\\nPentana Audit: Provides an integrated audit lifecycle tool, supporting internal audit teams with confidence. Now known as Ideagen Internal Audit.\\nPentana Disclose: An automated accounts disclosure checklist tool for efficient tailoring, reviewing, and approval. Now called Ideagen Disclose.\\nPentana Risk: Offers complete visibility and control over organizational risks, helping build resilience and compliance. Now Ideagen Risk Management.\\nPlant Assessor: The world's largest platform for plant and equipment safety and information sharing, tailored for machinery users.\\nPleaseReview: A secure collaborative platform for document review, co-authoring, and redaction, enabling efficient control of document workflows.\\nProquis: A quality management solution now replaced by Ideagen Quality Management.\\nProcessMAP: Acquired by Ideagen in 2022, a leading solution for digitalizing and transforming environmental, health, and safety management initiatives. Now Ideagen EHS.\\nQADEX: [No description provided.]\\nQualsys: Acquired by Ideagen in 2020, it provides a primary quality management solution now known as Ideagen Quality Management.\\nQualtrax: Combines customizable process and document management, especially for laboratories and government sectors in the US.\\nQ-Pulse EHS: Formerly the Scannell EHS management solution, it is now Ideagen EHS, a workplace safety solution.\\nQ-Pulse Law: A regulatory content service acquired by Ideagen in 2019, formerly Scannell Solutions, now called Q-Pulse Law.\\nQ-Pulse OSHENS: [No description provided.]\\nQ-Pulse PM: Automates First Article Inspection (FAI), Production Part Approval Process (PPAP), and New Product Introduction (NPI) for quality documentation and customer relationships.\\nQ-Pulse QMS: Acquired by Ideagen in 2015, a leading name in quality management digitalization. Now Ideagen Quality Management.\\nQ-Pulse Risk: A tool leveraging standardized risk models to manage risks effectively, aiding decision-making through impact analysis and risk modeling.\\nQ-Pulse SP: Enables suppliers to submit quality documentation via a web portal, with approval tools for submissions and part shipments.\\nQ-Pulse WorkRite: Transforms workplace training with an e-Learning LMS designed to meet legal regulations and protect staff. Now Ideagen WorkRite.\\nRisk Management: A next-generation enterprise risk management solution delivering integration of assurance, risk, and compliance with excellent user experience.\\nSmartforms: Simplifies high-volume data collection with a low-code mobile solution that saves time and enhances productivity, integrating with enterprise systems.\\nTritan Software: Helps maritime operators maintain health and safety best practices across global fleets, improving compliance, uptime, and operations.\\nWorkbench: A quality management solution now replaced by Ideagen Quality Management.\\nIdeagen WorkRite: An e-Learning LMS designed to meet legal regulations and ensure staff well-being.\"\"\"\n",
    "\n",
    "    retriever = db.as_retriever(\n",
    "    search_type=\"mmr\",  # Maximal Marginal Relevance for balancing relevance and diversity\n",
    "    search_kwargs={\n",
    "        \"k\": 5,  # Increase k to retrieve more candidates for ranking\n",
    "        \"lambda_mult\": 0.8,  # Control relevance vs. diversity (closer to 1 is more relevance-focused)\n",
    "    },\n",
    "    )\n",
    "\n",
    "\n",
    "    # Define the user's question\n",
    "    query = f\"a user with jobTitle: {jobTitle}, productUsed: {productUsed}, and searchQueries: {', '.join(searchQueries)}, recommend 3 products\"\n",
    "\n",
    "    # Retrieve relevant documents based on the query\n",
    "    relevant_docs = retriever.invoke(query)\n",
    "    context = f\"{text}\\n\".join(doc.page_content for doc in relevant_docs)\n",
    "\n",
    "    payload = {\n",
    "        'data': json.dumps({\n",
    "            \"instantPrompt\": instantPrompt,\n",
    "            \"text\": context,\n",
    "            \"platform\": 5\n",
    "        })\n",
    "    }\n",
    "    return payload\n",
    "\n",
    "def recommend(payload):\n",
    "    url = \"https://idea-gen-ai-igh.ideagendevai.com/api/idea-gen-ai-service/v2/prompts/15a57fc3-cd0c-4aac-87af-6db3ac1ee0ad\"\n",
    "\n",
    "    headers = {\n",
    "        'x-api-key': '<api-key>',\n",
    "        'productInstanceId': '987e6543-e21b-23d4-a789-426614173999',\n",
    "        'tenantId': 'f97df110-f4de-492e-8849-4a6af68026b0'\n",
    "    }\n",
    "\n",
    "    response = requests.post(url, headers=headers, data=payload)\n",
    "\n",
    "    print(response.text)\n",
    "    # Parse the JSON response\n",
    "    response_data = json.loads(response.text)\n",
    "\n",
    "    # Extract the answer text containing product names and descriptions\n",
    "    answer_text = response_data[\"data\"][\"answer\"][\"answerText\"]\n",
    "\n",
    "    # Remove the surrounding markdown code block\n",
    "    answer_text = answer_text.strip(\"```json\\n\").strip(\"\\n```\")\n",
    "\n",
    "    # Parse the JSON content inside the answer text\n",
    "    products_data = json.loads(answer_text)\n",
    "\n",
    "    # Create a dictionary to store the products and their descriptions\n",
    "    products = {item[\"product\"]: item[\"description\"] for item in products_data}\n",
    "    return products"
   ]
  },
  {
   "cell_type": "code",
   "execution_count": 49,
   "metadata": {},
   "outputs": [
    {
     "data": {
      "text/plain": [
       "{'data': '{\"instantPrompt\": \"based on the products and product descriptions, as a user with jobTitle: Restaurant owner, productUsed: Coruson, and searchQueries: safety, health, document collaboration, recommend 3 products, rank them based on the highest relevancy with percentage. Provide the answer in json array format. For the recommended products ensure that it is different from the product owned\", \"text\": \"Service & Maintenance ManagementKeep your machines in top conditionwith a preventative maintenance program\\\\n\\\\n\\\\u00a0\\\\n\\\\n\\\\nSafe Operating Procedures(SOPs)Access easy-to-read, comprehensiveSOPs specific to your machines\\\\n\\\\n\\\\u00a0\\\\n\\\\n\\\\nMySiteAll the tools to manage machinerycompliance obligations and upholdsafety on-site\\\\n\\\\n\\\\n\\\\u00a0\\\\n\\\\n\\\\nView All Features \\\\n\\\\n\\\\nINDUSTRIES\\\\nConstructionDealersHireClearing SalesAuctionsLocal GovernmentUtilities\\\\nAll Industries \\\\u00a0\\\\n\\\\nROLES\\\\nFleet ManagementMachinery OperatorsProcurementEngineersProject ManagementSafety\\\\n\\\\nAll Roles \\\\u00a0\\\\n\\\\n\\\\nSee how we can help transform your business\\\\nSee Ideagen Plant Assessor in action\\\\n\\\\n\\\\nCase StudiesHear from our clients\\\\nEventsFind us at industry events\\\\nGuidesFind industry-specific guides\\\\nLearnEducational content\\\\nNews & ArticlesIndustry news and articles\\\\n\\\\nSafety LegislationWe keep up with safety legislation so you don\\'t have to\\\\nVideosFind overviews and informative videos here\\\\nWebinarsView upcoming and on-demand webinars\\\\nPromotionsSee our current promotionsAudit Analytics: Provides unique data and insights to empower accounting, financial, and academic professionals with informative content critical for their work.\\\\nCompliancePath: Validates your QMS to 21 CFR Part 11 and harmonizes your policy and privacy frameworks to HIPAA, HITRUST, IEC62304, 21 CFR Part 820, and any area of Health IT or Life Science convergence.\\\\nCompliSpace: Built on the four pillars of policy, learning, assurance, and reporting, helping you achieve \\'policy to culture.\\'\\\\nCoruson: Enables transport companies to gain complete control, visibility, and real-time reporting of their safety and operational risks.\\\\nDevonWay: Provides a fully integrated, configurable product suite across environmental, health and safety, quality management, enterprise asset management, and workforce management.\\\\nHuddle: Offers secure file sharing and document collaboration for internal and external teams, enabling content collaboration, activity tracking, and project communication in a shared environment.\\\\nIdeagen Academy: Offers interactive demos, online learning, and assessments to help your workforce become proficient with Ideagen software.\\\\nIdeagen EHS: Powered by ProcessMAP, provides an integrated incident reporting and safety management solution, giving safety managers a \\'single source of truth.\\'\\\\nIdeagen Mail Manager: Eliminates email headaches and ensures control of sensitive information and project correspondence.\\\\nInspectionXpert: Facilitates faster and accurate creation of ballooned part drawings and inspection sheets. Now integrated as Ideagen Quality Control.\\\\nMedforce: Offers process and document management solutions tailored for US healthcare. Acquired by Ideagen in 2018.\\\\nOpsbase: A user-friendly, paperless checklist and inspection platform acquired by Ideagen in 2021.\\\\nOp Central: An AI-powered global software platform specializing in managing SOPs, training, audits, communications, and incidents for franchises and multi-site organizations.\\\\nOnePlace Solutions: Integrates Office 365 tools like Outlook, SharePoint, Teams, and OneDrive for intelligent information management, compliance, and collaboration.\\\\nPentana Audit: Provides an integrated audit lifecycle tool, supporting internal audit teams with confidence. Now known as Ideagen Internal Audit.\\\\nPentana Disclose: An automated accounts disclosure checklist tool for efficient tailoring, reviewing, and approval. Now called Ideagen Disclose.\\\\nPentana Risk: Offers complete visibility and control over organizational risks, helping build resilience and compliance. Now Ideagen Risk Management.\\\\nPlant Assessor: The world\\'s largest platform for plant and equipment safety and information sharing, tailored for machinery users.\\\\nPleaseReview: A secure collaborative platform for document review, co-authoring, and redaction, enabling efficient control of document workflows.\\\\nProquis: A quality management solution now replaced by Ideagen Quality Management.\\\\nProcessMAP: Acquired by Ideagen in 2022, a leading solution for digitalizing and transforming environmental, health, and safety management initiatives. Now Ideagen EHS.\\\\nQADEX: [No description provided.]\\\\nQualsys: Acquired by Ideagen in 2020, it provides a primary quality management solution now known as Ideagen Quality Management.\\\\nQualtrax: Combines customizable process and document management, especially for laboratories and government sectors in the US.\\\\nQ-Pulse EHS: Formerly the Scannell EHS management solution, it is now Ideagen EHS, a workplace safety solution.\\\\nQ-Pulse Law: A regulatory content service acquired by Ideagen in 2019, formerly Scannell Solutions, now called Q-Pulse Law.\\\\nQ-Pulse OSHENS: [No description provided.]\\\\nQ-Pulse PM: Automates First Article Inspection (FAI), Production Part Approval Process (PPAP), and New Product Introduction (NPI) for quality documentation and customer relationships.\\\\nQ-Pulse QMS: Acquired by Ideagen in 2015, a leading name in quality management digitalization. Now Ideagen Quality Management.\\\\nQ-Pulse Risk: A tool leveraging standardized risk models to manage risks effectively, aiding decision-making through impact analysis and risk modeling.\\\\nQ-Pulse SP: Enables suppliers to submit quality documentation via a web portal, with approval tools for submissions and part shipments.\\\\nQ-Pulse WorkRite: Transforms workplace training with an e-Learning LMS designed to meet legal regulations and protect staff. Now Ideagen WorkRite.\\\\nRisk Management: A next-generation enterprise risk management solution delivering integration of assurance, risk, and compliance with excellent user experience.\\\\nSmartforms: Simplifies high-volume data collection with a low-code mobile solution that saves time and enhances productivity, integrating with enterprise systems.\\\\nTritan Software: Helps maritime operators maintain health and safety best practices across global fleets, improving compliance, uptime, and operations.\\\\nWorkbench: A quality management solution now replaced by Ideagen Quality Management.\\\\nIdeagen WorkRite: An e-Learning LMS designed to meet legal regulations and ensure staff well-being.\\\\nSecure document collaboration software with cloud-based portals\\\\n\\\\n\\\\n \\\\n\\\\nCompany\\\\n\\\\nOur company\\\\nOur leadership\\\\nOur values\\\\nEvents\\\\nNews\\\\nContact Us\\\\n\\\\nCareers\\\\n\\\\nCareers overview\\\\nCurrent vacancieshiring\\\\nEarly Careers\\\\nBenefits\\\\n\\\\nResources\\\\n\\\\nBlogs\\\\n\\\\nCase studies\\\\n\\\\nWebinars\\\\nWhite papers\\\\n\\\\n\\\\nContact sales\\\\n\\\\n\\\\nBack\\\\n\\\\nYour priorities\\\\n\\\\nby industry\\\\n\\\\n\\\\nAEC\\\\n\\\\n\\\\nAerospace and defense\\\\n\\\\n\\\\nAudit, accounting and advisory\\\\n\\\\n\\\\nAviation\\\\n\\\\n\\\\nEducation\\\\n\\\\n\\\\nEnergy\\\\n\\\\n\\\\nFinancial services\\\\n\\\\n\\\\nFood and beverage\\\\n\\\\n\\\\nGovernment\\\\n\\\\n\\\\nHealthcare\\\\n\\\\n\\\\nLaboratories\\\\n\\\\n\\\\nLife sciences\\\\n\\\\n\\\\nManufacturing\\\\n\\\\n\\\\nPharmaceuticals\\\\n\\\\n\\\\nLatest Gartner\\\\u00ae Market Guide for EHS Software\\\\n\\\\nDownload now\\\\n\\\\n\\\\nby regulation\\\\n\\\\n\\\\nCal/OSHA Workplace Violence\\\\n\\\\n\\\\nCAPA\\\\n\\\\n\\\\nCOSO\\\\n\\\\n\\\\nECCAIRS\\\\n\\\\n\\\\nESG\\\\n\\\\n\\\\nGFSI\\\\n\\\\n\\\\nHACCP\\\\n\\\\n\\\\nHASAWA\\\\n\\\\n\\\\nIASA\\\\n\\\\n\\\\nIATF 16949\\\\n\\\\n\\\\nNatasha\\'s Law\\\\n\\\\n\\\\nOSHA General Duty Clause\\\\n\\\\n\\\\nRIDDOR\\\\n\\\\n\\\\nSOX\\\\n\\\\nLatest Gartner\\\\u00ae Market Guide for EHS Software\\\\n\\\\nDownload now\\\\n\\\\n\\\\nby standard\\\\n\\\\n\\\\nAS 9100\\\\n\\\\n\\\\nAS 9102\\\\n\\\\n\\\\nAS 9145\\\\n\\\\n\\\\nAS 13100\\\\n\\\\n\\\\nGlobal Internal Audit Standards\\\\u2122\\\\n\\\\n\\\\nISO 9001\\\\n\\\\n\\\\nISO 10002\\\\n\\\\n\\\\nISO 13485\\\\n\\\\n\\\\nISO 14001\\\\n\\\\n\\\\nISO 15189Audit Analytics: Provides unique data and insights to empower accounting, financial, and academic professionals with informative content critical for their work.\\\\nCompliancePath: Validates your QMS to 21 CFR Part 11 and harmonizes your policy and privacy frameworks to HIPAA, HITRUST, IEC62304, 21 CFR Part 820, and any area of Health IT or Life Science convergence.\\\\nCompliSpace: Built on the four pillars of policy, learning, assurance, and reporting, helping you achieve \\'policy to culture.\\'\\\\nCoruson: Enables transport companies to gain complete control, visibility, and real-time reporting of their safety and operational risks.\\\\nDevonWay: Provides a fully integrated, configurable product suite across environmental, health and safety, quality management, enterprise asset management, and workforce management.\\\\nHuddle: Offers secure file sharing and document collaboration for internal and external teams, enabling content collaboration, activity tracking, and project communication in a shared environment.\\\\nIdeagen Academy: Offers interactive demos, online learning, and assessments to help your workforce become proficient with Ideagen software.\\\\nIdeagen EHS: Powered by ProcessMAP, provides an integrated incident reporting and safety management solution, giving safety managers a \\'single source of truth.\\'\\\\nIdeagen Mail Manager: Eliminates email headaches and ensures control of sensitive information and project correspondence.\\\\nInspectionXpert: Facilitates faster and accurate creation of ballooned part drawings and inspection sheets. Now integrated as Ideagen Quality Control.\\\\nMedforce: Offers process and document management solutions tailored for US healthcare. Acquired by Ideagen in 2018.\\\\nOpsbase: A user-friendly, paperless checklist and inspection platform acquired by Ideagen in 2021.\\\\nOp Central: An AI-powered global software platform specializing in managing SOPs, training, audits, communications, and incidents for franchises and multi-site organizations.\\\\nOnePlace Solutions: Integrates Office 365 tools like Outlook, SharePoint, Teams, and OneDrive for intelligent information management, compliance, and collaboration.\\\\nPentana Audit: Provides an integrated audit lifecycle tool, supporting internal audit teams with confidence. Now known as Ideagen Internal Audit.\\\\nPentana Disclose: An automated accounts disclosure checklist tool for efficient tailoring, reviewing, and approval. Now called Ideagen Disclose.\\\\nPentana Risk: Offers complete visibility and control over organizational risks, helping build resilience and compliance. Now Ideagen Risk Management.\\\\nPlant Assessor: The world\\'s largest platform for plant and equipment safety and information sharing, tailored for machinery users.\\\\nPleaseReview: A secure collaborative platform for document review, co-authoring, and redaction, enabling efficient control of document workflows.\\\\nProquis: A quality management solution now replaced by Ideagen Quality Management.\\\\nProcessMAP: Acquired by Ideagen in 2022, a leading solution for digitalizing and transforming environmental, health, and safety management initiatives. Now Ideagen EHS.\\\\nQADEX: [No description provided.]\\\\nQualsys: Acquired by Ideagen in 2020, it provides a primary quality management solution now known as Ideagen Quality Management.\\\\nQualtrax: Combines customizable process and document management, especially for laboratories and government sectors in the US.\\\\nQ-Pulse EHS: Formerly the Scannell EHS management solution, it is now Ideagen EHS, a workplace safety solution.\\\\nQ-Pulse Law: A regulatory content service acquired by Ideagen in 2019, formerly Scannell Solutions, now called Q-Pulse Law.\\\\nQ-Pulse OSHENS: [No description provided.]\\\\nQ-Pulse PM: Automates First Article Inspection (FAI), Production Part Approval Process (PPAP), and New Product Introduction (NPI) for quality documentation and customer relationships.\\\\nQ-Pulse QMS: Acquired by Ideagen in 2015, a leading name in quality management digitalization. Now Ideagen Quality Management.\\\\nQ-Pulse Risk: A tool leveraging standardized risk models to manage risks effectively, aiding decision-making through impact analysis and risk modeling.\\\\nQ-Pulse SP: Enables suppliers to submit quality documentation via a web portal, with approval tools for submissions and part shipments.\\\\nQ-Pulse WorkRite: Transforms workplace training with an e-Learning LMS designed to meet legal regulations and protect staff. Now Ideagen WorkRite.\\\\nRisk Management: A next-generation enterprise risk management solution delivering integration of assurance, risk, and compliance with excellent user experience.\\\\nSmartforms: Simplifies high-volume data collection with a low-code mobile solution that saves time and enhances productivity, integrating with enterprise systems.\\\\nTritan Software: Helps maritime operators maintain health and safety best practices across global fleets, improving compliance, uptime, and operations.\\\\nWorkbench: A quality management solution now replaced by Ideagen Quality Management.\\\\nIdeagen WorkRite: An e-Learning LMS designed to meet legal regulations and ensure staff well-being.\\\\nLabel Store\\\\n        \\\\n      \\\\n\\\\nFacebook\\\\n\\\\n\\\\nLinkedIn\\\\n\\\\n\\\\nYoutube\\\\n\\\\n\\\\nPRODUCTS\\\\n\\\\n\\\\nIdeagen Plant AssessorPre Start PlusMachinery Safety Labels\\\\n\\\\nSERVICES\\\\nProfessional ServicesTraining\\\\nADD-ONS\\\\nPremium Pre StartsPre-QualificationSupply Machines to SiteSite ReportingQR Code Labels\\\\nView all Products & Services\\\\u00a0 \\\\u00a0\\\\n\\\\n\\\\nTOP FEATURES\\\\n\\\\n\\\\n\\\\u00a0\\\\n\\\\n\\\\nMachinery Pre StartsUnlimited, ready-to-go digital pre starts with our free pre start app\\\\n\\\\n\\\\u00a0\\\\n\\\\n\\\\nRisk Management & Corrective ActionsKnow the hazards and how to control them with our automated risk management reports\\\\n\\\\n\\\\u00a0\\\\n\\\\n\\\\nDocument Management & Audit TrailLeave paper-based systems behind andmanage and store crucial complianceinformation digitally\\\\n\\\\n\\\\u00a0\\\\n\\\\n\\\\nDashboards & ReportingGet information and insights on thecompliance status across your fleetand sites\\\\n\\\\n\\\\u00a0\\\\n\\\\n\\\\n\\\\u00a0\\\\n\\\\n\\\\u00a0\\\\n\\\\n\\\\nMachinery Risk AssessmentsIndustry leading and specific to your machines. Powered by the Machinery Compliance Engine (MCE)Audit Analytics: Provides unique data and insights to empower accounting, financial, and academic professionals with informative content critical for their work.\\\\nCompliancePath: Validates your QMS to 21 CFR Part 11 and harmonizes your policy and privacy frameworks to HIPAA, HITRUST, IEC62304, 21 CFR Part 820, and any area of Health IT or Life Science convergence.\\\\nCompliSpace: Built on the four pillars of policy, learning, assurance, and reporting, helping you achieve \\'policy to culture.\\'\\\\nCoruson: Enables transport companies to gain complete control, visibility, and real-time reporting of their safety and operational risks.\\\\nDevonWay: Provides a fully integrated, configurable product suite across environmental, health and safety, quality management, enterprise asset management, and workforce management.\\\\nHuddle: Offers secure file sharing and document collaboration for internal and external teams, enabling content collaboration, activity tracking, and project communication in a shared environment.\\\\nIdeagen Academy: Offers interactive demos, online learning, and assessments to help your workforce become proficient with Ideagen software.\\\\nIdeagen EHS: Powered by ProcessMAP, provides an integrated incident reporting and safety management solution, giving safety managers a \\'single source of truth.\\'\\\\nIdeagen Mail Manager: Eliminates email headaches and ensures control of sensitive information and project correspondence.\\\\nInspectionXpert: Facilitates faster and accurate creation of ballooned part drawings and inspection sheets. Now integrated as Ideagen Quality Control.\\\\nMedforce: Offers process and document management solutions tailored for US healthcare. Acquired by Ideagen in 2018.\\\\nOpsbase: A user-friendly, paperless checklist and inspection platform acquired by Ideagen in 2021.\\\\nOp Central: An AI-powered global software platform specializing in managing SOPs, training, audits, communications, and incidents for franchises and multi-site organizations.\\\\nOnePlace Solutions: Integrates Office 365 tools like Outlook, SharePoint, Teams, and OneDrive for intelligent information management, compliance, and collaboration.\\\\nPentana Audit: Provides an integrated audit lifecycle tool, supporting internal audit teams with confidence. Now known as Ideagen Internal Audit.\\\\nPentana Disclose: An automated accounts disclosure checklist tool for efficient tailoring, reviewing, and approval. Now called Ideagen Disclose.\\\\nPentana Risk: Offers complete visibility and control over organizational risks, helping build resilience and compliance. Now Ideagen Risk Management.\\\\nPlant Assessor: The world\\'s largest platform for plant and equipment safety and information sharing, tailored for machinery users.\\\\nPleaseReview: A secure collaborative platform for document review, co-authoring, and redaction, enabling efficient control of document workflows.\\\\nProquis: A quality management solution now replaced by Ideagen Quality Management.\\\\nProcessMAP: Acquired by Ideagen in 2022, a leading solution for digitalizing and transforming environmental, health, and safety management initiatives. Now Ideagen EHS.\\\\nQADEX: [No description provided.]\\\\nQualsys: Acquired by Ideagen in 2020, it provides a primary quality management solution now known as Ideagen Quality Management.\\\\nQualtrax: Combines customizable process and document management, especially for laboratories and government sectors in the US.\\\\nQ-Pulse EHS: Formerly the Scannell EHS management solution, it is now Ideagen EHS, a workplace safety solution.\\\\nQ-Pulse Law: A regulatory content service acquired by Ideagen in 2019, formerly Scannell Solutions, now called Q-Pulse Law.\\\\nQ-Pulse OSHENS: [No description provided.]\\\\nQ-Pulse PM: Automates First Article Inspection (FAI), Production Part Approval Process (PPAP), and New Product Introduction (NPI) for quality documentation and customer relationships.\\\\nQ-Pulse QMS: Acquired by Ideagen in 2015, a leading name in quality management digitalization. Now Ideagen Quality Management.\\\\nQ-Pulse Risk: A tool leveraging standardized risk models to manage risks effectively, aiding decision-making through impact analysis and risk modeling.\\\\nQ-Pulse SP: Enables suppliers to submit quality documentation via a web portal, with approval tools for submissions and part shipments.\\\\nQ-Pulse WorkRite: Transforms workplace training with an e-Learning LMS designed to meet legal regulations and protect staff. Now Ideagen WorkRite.\\\\nRisk Management: A next-generation enterprise risk management solution delivering integration of assurance, risk, and compliance with excellent user experience.\\\\nSmartforms: Simplifies high-volume data collection with a low-code mobile solution that saves time and enhances productivity, integrating with enterprise systems.\\\\nTritan Software: Helps maritime operators maintain health and safety best practices across global fleets, improving compliance, uptime, and operations.\\\\nWorkbench: A quality management solution now replaced by Ideagen Quality Management.\\\\nIdeagen WorkRite: An e-Learning LMS designed to meet legal regulations and ensure staff well-being.\\\\nDigitize your supplier management, risk assessment, new product development, and customer communications to ensure complete and consistent food safety and quality. Track raw materials and product movement through your supply chain - from farm to shelf.\\\\n\\\\nFood specifications and supplier assurance.\\\\nProduct launch and finished product assurance.\\\\nCAPA, quality checks and management reporting.\\\\nGather data with ease and identify emerging risks or weaknesses within your supply chain.\\\\nAvoid recalls and the costs associated with complaints.\\\\nEliminate non-conformance within your supply chain and ensure compliance with relevant standards.\\\\n\\\\n\\\\r\\\\n                                                Find out more\\\\r\\\\n                                            \\\\n\\\\n\\\\nCase study\\\\nMetalwerks organizational gains\\\\n\\\\r\\\\n                                            Read case studyAudit Analytics: Provides unique data and insights to empower accounting, financial, and academic professionals with informative content critical for their work.\\\\nCompliancePath: Validates your QMS to 21 CFR Part 11 and harmonizes your policy and privacy frameworks to HIPAA, HITRUST, IEC62304, 21 CFR Part 820, and any area of Health IT or Life Science convergence.\\\\nCompliSpace: Built on the four pillars of policy, learning, assurance, and reporting, helping you achieve \\'policy to culture.\\'\\\\nCoruson: Enables transport companies to gain complete control, visibility, and real-time reporting of their safety and operational risks.\\\\nDevonWay: Provides a fully integrated, configurable product suite across environmental, health and safety, quality management, enterprise asset management, and workforce management.\\\\nHuddle: Offers secure file sharing and document collaboration for internal and external teams, enabling content collaboration, activity tracking, and project communication in a shared environment.\\\\nIdeagen Academy: Offers interactive demos, online learning, and assessments to help your workforce become proficient with Ideagen software.\\\\nIdeagen EHS: Powered by ProcessMAP, provides an integrated incident reporting and safety management solution, giving safety managers a \\'single source of truth.\\'\\\\nIdeagen Mail Manager: Eliminates email headaches and ensures control of sensitive information and project correspondence.\\\\nInspectionXpert: Facilitates faster and accurate creation of ballooned part drawings and inspection sheets. Now integrated as Ideagen Quality Control.\\\\nMedforce: Offers process and document management solutions tailored for US healthcare. Acquired by Ideagen in 2018.\\\\nOpsbase: A user-friendly, paperless checklist and inspection platform acquired by Ideagen in 2021.\\\\nOp Central: An AI-powered global software platform specializing in managing SOPs, training, audits, communications, and incidents for franchises and multi-site organizations.\\\\nOnePlace Solutions: Integrates Office 365 tools like Outlook, SharePoint, Teams, and OneDrive for intelligent information management, compliance, and collaboration.\\\\nPentana Audit: Provides an integrated audit lifecycle tool, supporting internal audit teams with confidence. Now known as Ideagen Internal Audit.\\\\nPentana Disclose: An automated accounts disclosure checklist tool for efficient tailoring, reviewing, and approval. Now called Ideagen Disclose.\\\\nPentana Risk: Offers complete visibility and control over organizational risks, helping build resilience and compliance. Now Ideagen Risk Management.\\\\nPlant Assessor: The world\\'s largest platform for plant and equipment safety and information sharing, tailored for machinery users.\\\\nPleaseReview: A secure collaborative platform for document review, co-authoring, and redaction, enabling efficient control of document workflows.\\\\nProquis: A quality management solution now replaced by Ideagen Quality Management.\\\\nProcessMAP: Acquired by Ideagen in 2022, a leading solution for digitalizing and transforming environmental, health, and safety management initiatives. Now Ideagen EHS.\\\\nQADEX: [No description provided.]\\\\nQualsys: Acquired by Ideagen in 2020, it provides a primary quality management solution now known as Ideagen Quality Management.\\\\nQualtrax: Combines customizable process and document management, especially for laboratories and government sectors in the US.\\\\nQ-Pulse EHS: Formerly the Scannell EHS management solution, it is now Ideagen EHS, a workplace safety solution.\\\\nQ-Pulse Law: A regulatory content service acquired by Ideagen in 2019, formerly Scannell Solutions, now called Q-Pulse Law.\\\\nQ-Pulse OSHENS: [No description provided.]\\\\nQ-Pulse PM: Automates First Article Inspection (FAI), Production Part Approval Process (PPAP), and New Product Introduction (NPI) for quality documentation and customer relationships.\\\\nQ-Pulse QMS: Acquired by Ideagen in 2015, a leading name in quality management digitalization. Now Ideagen Quality Management.\\\\nQ-Pulse Risk: A tool leveraging standardized risk models to manage risks effectively, aiding decision-making through impact analysis and risk modeling.\\\\nQ-Pulse SP: Enables suppliers to submit quality documentation via a web portal, with approval tools for submissions and part shipments.\\\\nQ-Pulse WorkRite: Transforms workplace training with an e-Learning LMS designed to meet legal regulations and protect staff. Now Ideagen WorkRite.\\\\nRisk Management: A next-generation enterprise risk management solution delivering integration of assurance, risk, and compliance with excellent user experience.\\\\nSmartforms: Simplifies high-volume data collection with a low-code mobile solution that saves time and enhances productivity, integrating with enterprise systems.\\\\nTritan Software: Helps maritime operators maintain health and safety best practices across global fleets, improving compliance, uptime, and operations.\\\\nWorkbench: A quality management solution now replaced by Ideagen Quality Management.\\\\nIdeagen WorkRite: An e-Learning LMS designed to meet legal regulations and ensure staff well-being.\\\\nAbout us\\\\nOur story\\\\nBlog\\\\nCareers\\\\nCase Studies\\\\nContact\\\\n\\\\nStay Connected\\\\n\\\\n\\\\nTerms of Use\\\\nPrivacy & Cookies\\\\nContact\\\\nSitemap\\\\n\\\\n\\\\n\\\\u00a9 2024 Ideagen. All rights reserved.\\\\n\\\\n\\\\nPart of\", \"platform\": 5}'}"
      ]
     },
     "execution_count": 49,
     "metadata": {},
     "output_type": "execute_result"
    }
   ],
   "source": [
    "payload = generate_payload(\"Restaurant owner\", \"Coruson\", [\"safety\", \"health\", \"document collaboration\"])\n",
    "payload"
   ]
  },
  {
   "cell_type": "code",
   "execution_count": 50,
   "metadata": {},
   "outputs": [
    {
     "name": "stdout",
     "output_type": "stream",
     "text": [
      "{\"data\":{\"answer\":{\"answerText\":\"```json\\n[\\n  {\\n    \\\"product\\\": \\\"Ideagen EHS\\\",\\n    \\\"description\\\": \\\"Powered by ProcessMAP, provides an integrated incident reporting and safety management solution, giving safety managers a 'single source of truth.'\\\",\\n    \\\"relevancy\\\": 95\\n  },\\n  {\\n    \\\"product\\\": \\\"PleaseReview\\\",\\n    \\\"description\\\": \\\"A secure collaborative platform for document review, co-authoring, and redaction, enabling efficient control of document workflows.\\\",\\n    \\\"relevancy\\\": 90\\n  },\\n  {\\n    \\\"product\\\": \\\"Huddle\\\",\\n    \\\"description\\\": \\\"Offers secure file sharing and document collaboration for internal and external teams, enabling content collaboration, activity tracking, and project communication in a shared environment.\\\",\\n    \\\"relevancy\\\": 85\\n  }\\n]\\n```\",\"answerType\":\"json\",\"isAnswerPositive\":null}}}\n",
      "\n"
     ]
    },
    {
     "data": {
      "text/plain": [
       "{'Ideagen EHS': \"Powered by ProcessMAP, provides an integrated incident reporting and safety management solution, giving safety managers a 'single source of truth.'\",\n",
       " 'PleaseReview': 'A secure collaborative platform for document review, co-authoring, and redaction, enabling efficient control of document workflows.',\n",
       " 'Huddle': 'Offers secure file sharing and document collaboration for internal and external teams, enabling content collaboration, activity tracking, and project communication in a shared environment.'}"
      ]
     },
     "execution_count": 50,
     "metadata": {},
     "output_type": "execute_result"
    }
   ],
   "source": [
    "products = recommend(payload)\n",
    "products"
   ]
  },
  {
   "cell_type": "code",
   "execution_count": null,
   "metadata": {},
   "outputs": [],
   "source": []
  },
  {
   "cell_type": "code",
   "execution_count": 19,
   "metadata": {},
   "outputs": [
    {
     "name": "stdout",
     "output_type": "stream",
     "text": [
      "[Document(metadata={'description': 'DevonWay provides SaaS software for quality, safety, asset management, and workforce management for organizations in regulated, high-risk industries', 'language': 'en', 'source': 'https://www.devonway.com/', 'title': 'DevonWay Software for QMS, EHS, EAM, and WFM'}, page_content=\"Kevin L.\\nQuality Engineering Lead | Viking Air\\nDevonWay is the perfect vendor that supports our long-term vision of having a unified quality, safety, and asset management platform.\\n\\nMark C.\\nDirector of Operations - Global Service | GE Healthcare\\nIt's been an excellent experience with Devonway. We need to track multi-million $ productivity improvement projects across the globe and Devonway has made that seamless.\\n\\nKyle P.\\nSenior Systems Analyst | Nebraska Public Power District\\nI use\\xa0the\\xa0relationship we have with\\xa0DevonWay\\xa0as our gold standard when we work with outside entities.\\xa0I don’t\\xa0know\\xa0anyone I work with outside of NPPD that we have such a good relationship with.\\n\\nThomas A.\\nPartner | Professional Safety Solutions\\nOur team uses the\\xa0DevonWay\\xa0application to manage the safety of a large utility project in Southern California. We like the intuitiveness of the field application. We also like how easy it has become to track and trend our data.\"), Document(metadata={'description': 'DevonWay provides SaaS software for quality, safety, asset management, and workforce management for organizations in regulated, high-risk industries', 'language': 'en', 'source': 'https://www.devonway.com/', 'title': 'DevonWay Software for QMS, EHS, EAM, and WFM'}, page_content=\"Request a Demo\\n\\n\\xa0\\n\\nTalk to a DevonWay expert\\n\\nAsset Management(EAM)\\nLearn more >\\n\\n\\nEnvironmental Health & Safety (EHS)\\nLearn more >\\n\\n\\nQuality Management(QMS)\\nLearn more >\\n\\n\\nWorkforce Management (WFM)\\nLearn more >\\n\\nRequest a Demo\\n\\nTalk with a DevonWay expert\\n\\nQuality, safety, asset management & work are interconnected\\nDon't let your software create new silos\\nQuality, Environmental Health and Safety, Asset Management, and Workforce Management processes are interconnected. Yet traditional software erects boundaries between them.\\xa0\\nDevonWay products work together across departments, across organizations, across traditional software boundaries — all on a single, secure platform. And they work well with your other systems, too, so you’re never stuck with more silos.\\nSee all products ›\\n\\n\\nSpotlight: Energy\\nDevonWay improves safety, quality, work, and asset management for power generation, transmission, oil and gas, nuclear, and renewables. More >\"), Document(metadata={'description': 'DevonWay provides SaaS software for quality, safety, asset management, and workforce management for organizations in regulated, high-risk industries', 'language': 'en', 'source': 'https://www.devonway.com/', 'title': 'DevonWay Software for QMS, EHS, EAM, and WFM'}, page_content='DevonWay Software for QMS, EHS, EAM, and WFM\\n\\n\\nProducts\\n\\n\\nIndustries\\n\\n\\nCustomers\\n\\n\\nResources\\n\\n\\nCompany\\n\\nProduct Suites\\nEnterprise Asset Management\\nEnvironmental Health & Safety\\nQuality Management\\nWorkforce Management\\n\\xa0\\nAll Products ›\\n\\nPackaged Solutions\\nContractor Assurance\\n\\nCompliance Management\\nCMMS\\nESG & Sustainability\\nWork Planning and Control\\nEnvironmental Health, Safety & Quality\\nPipeline Safety Management System\\nSafety Management System\\xa0\\n\\xa0\\nAll Solutions ›\\n\\n\\nDevonWay Platform\\nPlatform OverviewMobileBusiness IntelligenceUniversal TrendingIntegrations\\n\\n\\xa0\\n\\xa0\\nContractor Assurance (CAS)\\nCompliance Management\\nComputerized MaintenanceManagement System (CMMS)\\n\\n\\nDevonWay Solutions\\n\\xa0\\nEnterprise Asset Management\\nEnvironmental Health, Safety & Quality (EHSQ)\\n\\nESG & Sustainability\\n\\n\\n\\xa0\\n\\xa0\\nMobile Work Management / Control of Work\\n\\nPipeline Safety\\nSafety Management System (SMS)')]\n"
     ]
    }
   ],
   "source": [
    "print(relevant_docs)"
   ]
  }
 ],
 "metadata": {
  "kernelspec": {
   "display_name": ".venv",
   "language": "python",
   "name": "python3"
  },
  "language_info": {
   "codemirror_mode": {
    "name": "ipython",
    "version": 3
   },
   "file_extension": ".py",
   "mimetype": "text/x-python",
   "name": "python",
   "nbconvert_exporter": "python",
   "pygments_lexer": "ipython3",
   "version": "3.13.1"
  }
 },
 "nbformat": 4,
 "nbformat_minor": 2
}
